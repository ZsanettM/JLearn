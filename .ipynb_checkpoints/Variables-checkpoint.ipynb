{
 "cells": [
  {
   "cell_type": "markdown",
   "metadata": {},
   "source": [
    "<a id=\"variables\"><h3>Code Example – Variables</h3></a>"
   ]
  },
  {
   "cell_type": "code",
   "execution_count": null,
   "metadata": {},
   "outputs": [],
   "source": [
    "# Variables demonstrated\n",
    "print (\"This program is a demo of variables.\")\n",
    "v = 1\n",
    "\n",
    "\n",
    "print (\"The value of v is now\", v)"
   ]
  },
  {
   "cell_type": "code",
   "execution_count": null,
   "metadata": {},
   "outputs": [],
   "source": [
    "v = v + 1\n",
    "print (\"v now equals itself plus one, making it worth\", v)"
   ]
  },
  {
   "cell_type": "code",
   "execution_count": null,
   "metadata": {},
   "outputs": [],
   "source": [
    "v = 51\n",
    "print(\"v can store any numerical value, to be used elsewhere.\")\n",
    "print(\"For example, in a sentence. v is now worth\", v)\n",
    "print (\"v times 5 equals\", v*5)\n",
    "print (\"But v still only remains\", v)\n",
    "print(\"To make v five times bigger, you would have to type v = v*5\")"
   ]
  },
  {
   "cell_type": "code",
   "execution_count": null,
   "metadata": {},
   "outputs": [],
   "source": [
    "v = v * 5\n",
    "print (\"There you go, now v equals\", v, \"and not\", '{0:g}'.format(v/5))"
   ]
  },
  {
   "cell_type": "markdown",
   "metadata": {},
   "source": [
    "<a id=\"strings\">"
   ]
  },
  {
   "cell_type": "markdown",
   "metadata": {},
   "source": [
    "## Strings\n",
    "As you can see, variables store values, for use at a later time. You can change them at any time. You can put in more than numbers, though. Variables can hold things like text. A variable that holds text is called a string. Try this program: "
   ]
  },
  {
   "cell_type": "code",
   "execution_count": null,
   "metadata": {},
   "outputs": [],
   "source": [
    "#Giving variables text, and adding text.\n",
    "word1 = \"Good\"\n",
    "word2 = \"morning\"\n",
    "word3 = \"to you too!\"\n",
    "print(word1, word2)\n",
    "sentence = word1 + \" \" + word2 + \" \" + word3\n",
    "print(sentence)"
   ]
  },
  {
   "cell_type": "code",
   "execution_count": null,
   "metadata": {},
   "outputs": [],
   "source": []
  }
 ],
 "metadata": {
  "kernelspec": {
   "display_name": "Python 3",
   "language": "python",
   "name": "python3"
  },
  "language_info": {
   "codemirror_mode": {
    "name": "ipython",
    "version": 3
   },
   "file_extension": ".py",
   "mimetype": "text/x-python",
   "name": "python",
   "nbconvert_exporter": "python",
   "pygments_lexer": "ipython3",
   "version": "3.6.7"
  }
 },
 "nbformat": 4,
 "nbformat_minor": 2
}
