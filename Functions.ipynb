{
 "cells": [
  {
   "cell_type": "markdown",
   "metadata": {},
   "source": [
    "## Using a function"
   ]
  },
  {
   "cell_type": "code",
   "execution_count": 1,
   "metadata": {},
   "outputs": [],
   "source": [
    "def multiply( number ):\n",
    "    return number*5"
   ]
  },
  {
   "cell_type": "markdown",
   "metadata": {},
   "source": [
    "Lets call this program that multiplies any number by five, multiply(). You put the number you want multiplied in the brackets. So if you typed this: "
   ]
  },
  {
   "cell_type": "code",
   "execution_count": 2,
   "metadata": {},
   "outputs": [
    {
     "name": "stdout",
     "output_type": "stream",
     "text": [
      "The computer would actually see this:  a= 350\n"
     ]
    }
   ],
   "source": [
    "a = multiply(70)\n",
    "print(\"The computer would actually see this: \",\"a=\", a)"
   ]
  },
  {
   "cell_type": "markdown",
   "metadata": {},
   "source": [
    "There is a very important built-in function in Python called input. This function allows the user to enter someting from the keyboard:"
   ]
  },
  {
   "cell_type": "code",
   "execution_count": 3,
   "metadata": {},
   "outputs": [
    {
     "name": "stdout",
     "output_type": "stream",
     "text": [
      "Type in something, and it will be repeated on screen:hi\n",
      "hi\n"
     ]
    }
   ],
   "source": [
    "# this line makes 'a' equal to whatever you type in\n",
    "a = input(\"Type in something, and it will be repeated on screen:\")\n",
    "# this line prints what 'a' is now worth\n",
    "print(a)"
   ]
  },
  {
   "cell_type": "markdown",
   "metadata": {},
   "source": [
    "### Example calculator program:"
   ]
  },
  {
   "cell_type": "code",
   "execution_count": 4,
   "metadata": {},
   "outputs": [
    {
     "name": "stdout",
     "output_type": "stream",
     "text": [
      "---------------------------\n",
      "Welcome to calculator.py\n",
      "---------------------------\n",
      "---------------------------\n",
      "your options are:\n",
      " \n",
      "1) Addition\n",
      "2) Subtraction\n",
      "3) Multiplication\n",
      "4) Division\n",
      "5) Quit calculator.py\n",
      " \n",
      "---------------------------\n",
      "Choose your option: 5\n",
      "Thank you for using calculator.py!\n"
     ]
    }
   ],
   "source": [
    "#calculator program\n",
    "\n",
    "#This variable tells the loop whether it should loop or not.\n",
    "# 1 means loop. Anything else means don't loop.\n",
    "\n",
    "loop = 1\n",
    "\n",
    "#this variable holds the user's choice in the menu:\n",
    "\n",
    "choice = 0\n",
    "\n",
    "#Display the available options\n",
    "print(\"---------------------------\")\n",
    "print (\"Welcome to calculator.py\")\n",
    "print(\"---------------------------\")\n",
    "print(\"---------------------------\")\n",
    "\n",
    "print (\"your options are:\")\n",
    "print (\" \")\n",
    "print (\"1) Addition\")\n",
    "print (\"2) Subtraction\")\n",
    "print (\"3) Multiplication\")\n",
    "print (\"4) Division\")\n",
    "print (\"5) Quit calculator.py\")\n",
    "print (\" \")\n",
    "print(\"---------------------------\")\n",
    "    \n",
    "while loop == 1:\n",
    "    choice = int(input(\"Choose your option: \"))\n",
    "    if choice == 1:\n",
    "        add1 = int(input(\"Add this: \"))\n",
    "        add2 = int(input(\"to this: \"))\n",
    "        print (add1, \"+\", add2, \"=\", add1 + add2)\n",
    "    elif choice == 2:\n",
    "        sub2 = int(input(\"Subtract this: \"))\n",
    "        sub1 = int(input(\"from this: \"))\n",
    "        print (sub1, \"-\", sub2, \"=\", sub1 - sub2)\n",
    "    elif choice == 3:\n",
    "        mul1 = int(input(\"Multiply this: \"))\n",
    "        mul2 = int(input(\"with this: \"))\n",
    "        print (mul1, \"*\", mul2, \"=\", mul1 * mul2)\n",
    "    elif choice == 4:\n",
    "        div1 = int(input(\"Divide this: \"))\n",
    "        div2 = int(input(\"by this: \"))\n",
    "        print (div1, \"/\", div2, \"=\", div1 / div2)\n",
    "    elif choice == 5:\n",
    "        loop = 0\n",
    "\t\n",
    "print (\"Thank you for using calculator.py!\")"
   ]
  },
  {
   "cell_type": "markdown",
   "metadata": {},
   "source": [
    "### Code Example - how parameters work"
   ]
  },
  {
   "cell_type": "code",
   "execution_count": 5,
   "metadata": {},
   "outputs": [],
   "source": [
    "def funny_function(first_word, second_word, third_word):\n",
    "    print (\"The sentence created is: \" + first_word + \" \" + second_word + \" \" + third_word)\n",
    "    return first_word + \" \" + second_word + \" \" + third_word"
   ]
  },
  {
   "cell_type": "code",
   "execution_count": 6,
   "metadata": {},
   "outputs": [
    {
     "name": "stdout",
     "output_type": "stream",
     "text": [
      "Enter the first word: Veggie\n",
      "Enter the second word: Eating\n",
      "Enter the third word: Gal\n",
      "The sentence created is: Veggie Eating Gal\n"
     ]
    },
    {
     "data": {
      "text/plain": [
       "'Veggie Eating Gal'"
      ]
     },
     "execution_count": 6,
     "metadata": {},
     "output_type": "execute_result"
    }
   ],
   "source": [
    "word1 = input(\"Enter the first word: \")\n",
    "word2 = input(\"Enter the second word: \")\n",
    "word3 = input(\"Enter the third word: \")\n",
    "\n",
    "word1 = word1.capitalize() #Make the first letter of the first word upper case\n",
    "                           #capitalize() is a built-in function\n",
    "\n",
    "funny_function(word1, word2, word3)"
   ]
  },
  {
   "cell_type": "markdown",
   "metadata": {},
   "source": [
    "The first value would be put into the variable called first_word. The second value inside the brackets would be put into the variable called second_word, and so on. This is how values are passed from the main program to functions - inside the parentheses, after the function name. "
   ]
  },
  {
   "cell_type": "markdown",
   "metadata": {},
   "source": [
    "### The Final Program"
   ]
  },
  {
   "cell_type": "markdown",
   "metadata": {},
   "source": [
    "Think back to that calculator program. Did it look a bit messy to you? I think it did, so lets re-write it, with functions.\n",
    "\n",
    "To design - First we will define all the functions we are going to use with the 'def' operator (still remember what an operator is ;) ). Then we will have the main program, with all that messy code replaced with nice, neat functions. This will make it so much easier to look at again in the future. "
   ]
  },
  {
   "cell_type": "code",
   "execution_count": 9,
   "metadata": {},
   "outputs": [
    {
     "name": "stdout",
     "output_type": "stream",
     "text": [
      "Welcome to calculator.py\n",
      "your options are:\n",
      " \n",
      "1) Addition\n",
      "2) Subtraction\n",
      "3) Multiplication\n",
      "4) Division\n",
      "5) Quit calculator.py\n",
      " \n",
      "Choose your option: 5\n",
      "Thank you for using calculator.py!\n"
     ]
    }
   ],
   "source": [
    "# calculator program\n",
    "\n",
    "# Here we will define our functions\n",
    "# this prints the main menu, and prompts for a choice\n",
    "def menu():\n",
    "    #print what options you have\n",
    "    print (\"Welcome to calculator.py\")\n",
    "    print (\"your options are:\")\n",
    "    print (\" \")\n",
    "    print (\"1) Addition\")\n",
    "    print (\"2) Subtraction\")\n",
    "    print (\"3) Multiplication\")\n",
    "    print (\"4) Division\")\n",
    "    print (\"5) Quit calculator.py\")\n",
    "    print (\" \")\n",
    "    return input (\"Choose your option: \")\n",
    "    \n",
    "# this adds two numbers given\n",
    "def add(a,b):\n",
    "    print (a, \"+\", b, \"=\", a + b)\n",
    "    \n",
    "# this subtracts two numbers given\n",
    "def sub(a,b):\n",
    "    print (b, \"-\", a, \"=\", b - a)\n",
    "    \n",
    "# this multiplies two numbers given\n",
    "def mul(a,b):\n",
    "    print (a, \"*\", b, \"=\", a * b)\n",
    "    \n",
    "# this divides two numbers given\n",
    "def div(a,b):\n",
    "    print (a, \"/\", b, \"=\", a / b)\n",
    "    \n",
    "# NOW THE PROGRAM REALLY STARTS, AS CODE IS RUN\n",
    "loop = 1\n",
    "choice = 0\n",
    "while loop == 1:\n",
    "    choice = eval(menu())\n",
    "    if choice == 1:\n",
    "        add(eval(input(\"Add this: \")),eval(input(\"to this: \")))\n",
    "    elif choice == 2:\n",
    "        sub(eval(input(\"Subtract this: \")),eval(input(\"from this: \")))\n",
    "    elif choice == 3:\n",
    "        mul(eval(input(\"Multiply this: \")),eval(input(\"by this: \")))\n",
    "    elif choice == 4:\n",
    "        div(eval(input(\"Divide this: \")),eval(input(\"by this: \")))\n",
    "    elif choice == 5:\n",
    "        loop = 0\n",
    "\n",
    "print (\"Thank you for using calculator.py!\")\n",
    "\n",
    "# NOW THE PROGRAM REALLY FINISHES"
   ]
  },
  {
   "cell_type": "code",
   "execution_count": null,
   "metadata": {},
   "outputs": [],
   "source": []
  }
 ],
 "metadata": {
  "kernelspec": {
   "display_name": "Python 3",
   "language": "python",
   "name": "python3"
  },
  "language_info": {
   "codemirror_mode": {
    "name": "ipython",
    "version": 3
   },
   "file_extension": ".py",
   "mimetype": "text/x-python",
   "name": "python",
   "nbconvert_exporter": "python",
   "pygments_lexer": "ipython3",
   "version": "3.6.7"
  }
 },
 "nbformat": 4,
 "nbformat_minor": 2
}
