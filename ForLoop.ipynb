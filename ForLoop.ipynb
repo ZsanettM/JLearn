{
 "cells": [
  {
   "cell_type": "markdown",
   "metadata": {},
   "source": [
    "Basically, the for loop does something for every value in a list. The way it is set out is a little confusing, but otherwise is very basic. Here is an example of it in code: "
   ]
  },
  {
   "cell_type": "markdown",
   "metadata": {},
   "source": [
    "<strong>Code Example 1 - The for Loop</strong>"
   ]
  },
  {
   "cell_type": "code",
   "execution_count": 1,
   "metadata": {},
   "outputs": [
    {
     "name": "stdout",
     "output_type": "stream",
     "text": [
      "45\n",
      "eat me\n",
      "90210\n",
      "The day has come, the walrus said, to speak of many things\n",
      "-67\n"
     ]
    }
   ],
   "source": [
    "# Example 'for' loop\n",
    "# First, create a list to loop through:\n",
    "newList = [45, 'eat me', 90210, \"The day has come, the walrus said, \\\n",
    "to speak of many things\", -67]\n",
    "\n",
    "# create the loop:\n",
    "# Goes through newList, and sequentially puts each bit of information\n",
    "# into the variable value, and runs the loop\n",
    "for value in newList:\n",
    "    print(value)"
   ]
  },
  {
   "cell_type": "markdown",
   "metadata": {},
   "source": [
    "As you see, when the loop executes, it runs through all of the values in the list mentioned after 'in'. It then puts them into value, and executes through the loop, each time with value being worth something different. Let's see it a again, in a classic cheerleading call that we all know: "
   ]
  },
  {
   "cell_type": "markdown",
   "metadata": {},
   "source": [
    "<strong>Code Example 2 - A for loop example</strong>"
   ]
  },
  {
   "cell_type": "code",
   "execution_count": 4,
   "metadata": {},
   "outputs": [
    {
     "name": "stdout",
     "output_type": "stream",
     "text": [
      "Who do you go for? Win\n",
      "Gimme a W!\n",
      "W!\n",
      "Gimme a i!\n",
      "i!\n",
      "Gimme a n!\n",
      "n!\n",
      "What does that spell?\n",
      "Win!\n"
     ]
    }
   ],
   "source": [
    "# cheerleading program\n",
    "word = input(\"Who do you go for? \")\n",
    "\n",
    "for letter in word:\n",
    "    call = \"Gimme a \" + letter + \"!\"\n",
    "    print(call)\n",
    "    print(letter + \"!\")\n",
    "print(\"What does that spell?\")\n",
    "print(word + \"!\")"
   ]
  },
  {
   "cell_type": "markdown",
   "metadata": {},
   "source": [
    "A couple of things you've just learnt:\n",
    "\n",
    "As you see, strings (remember - strings are lines of text) are just lists with lots of characters. The program went through each of the letters (or values) in word, and it printed them onscreen. "
   ]
  },
  {
   "cell_type": "markdown",
   "metadata": {},
   "source": [
    "## Our First 'Game' - Text Adventure Game"
   ]
  },
  {
   "cell_type": "code",
   "execution_count": 1,
   "metadata": {},
   "outputs": [
    {
     "name": "stdout",
     "output_type": "stream",
     "text": [
      "Last night you went to sleep in the comfort of your own home.\n",
      "Now, you find yourself locked in a room. You don't know how\n",
      "you got there, or what time it is. In the room you can see\n",
      "6 things:\n",
      "plant\n",
      "painting\n",
      "vase\n",
      "lampshade\n",
      "shoe\n",
      "door\n",
      "\n",
      "The door is locked. Could there be a key somewhere?\n",
      "1 )plant\n",
      "2 )painting\n",
      "3 )vase\n",
      "4 )lampshade\n",
      "5 )shoe\n",
      "6 )door\n",
      "What do you want to inspect? 2\n",
      "You found a small key in the vase.\n",
      "\n",
      "1 )plant\n",
      "2 )painting\n",
      "3 )vase\n",
      "4 )lampshade\n",
      "5 )shoe\n",
      "6 )door\n",
      "What do you want to inspect? 5\n",
      "You put in the key, turn it, and hear a click\n",
      "\n",
      "Light floods into the room as you open the door to your freedom.\n"
     ]
    }
   ],
   "source": [
    "#TEXT ADVENTURE GAME\n",
    "\n",
    "#the menu function:\n",
    "def menu(list, question):\n",
    "    for entry in list:\n",
    "        print(1 + list.index(entry),\")\" + entry)\n",
    "    return int(input(question))\n",
    "\n",
    "#Give the computer some basic information about the room:\n",
    "items = [\"plant\",\"painting\",\"vase\",\"lampshade\",\"shoe\",\"door\"]\n",
    "\n",
    "#The key is in the vase (or entry number 2 in the list above):\n",
    "keylocation = 2\n",
    "\n",
    "#You haven't found the key:\n",
    "keyfound = 0\n",
    "\n",
    "loop = 1\n",
    "\n",
    "#Give some introductary text:\n",
    "print(\"Last night you went to sleep in the comfort of your own home.\")\n",
    "\n",
    "print(\"Now, you find yourself locked in a room. You don't know how\")\n",
    "print(\"you got there, or what time it is. In the room you can see\")\n",
    "print(len(items), \"things:\")\n",
    "for x in items:\n",
    "    print(x)\n",
    "print(\"\")\n",
    "print(\"The door is locked. Could there be a key somewhere?\")\n",
    "#Get your menu working, and the program running until you find the key:\n",
    "while loop == 1:\n",
    "    choice = menu(items,\"What do you want to inspect? \")\n",
    "    if choice == 0:\n",
    "        if choice == keylocation:\n",
    "            print(\"You found a small key in the plant.\")\n",
    "\n",
    "            print(\"\")\n",
    "            keyfound = 1\n",
    "        else:\n",
    "            print(\"You found nothing in the plant.\")\n",
    "            print(\"\")\n",
    "    elif choice == 1:\n",
    "        if choice == keylocation:\n",
    "            print(\"You found a small key behind the painting.\")\n",
    "            print(\"\")\n",
    "\n",
    "            keyfound = 1\n",
    "        else:\n",
    "            print(\"You found nothing behind the painting.\")\n",
    "            print(\"\")\n",
    "    elif choice == 2:\n",
    "        if choice == keylocation:\n",
    "            print(\"You found a small key in the vase.\")\n",
    "            print(\"\")\n",
    "            keyfound = 1\n",
    "        else:\n",
    "            print(\"You found nothing in the vase.\")\n",
    "\n",
    "            print(\"\")\n",
    "    elif choice == 3:\n",
    "        if choice == keylocation:\n",
    "            print(\"You found a small key in the lampshade.\")\n",
    "            print(\"\")\n",
    "            keyfound = 1\n",
    "        else:\n",
    "            print(\"You found nothing in the lampshade.\")\n",
    "            print(\"\")\n",
    "\n",
    "    elif choice == 4:\n",
    "        if choice == keylocation:\n",
    "            print(\"You found a small key in the shoe.\")\n",
    "            print(\"\")\n",
    "            keyfound = 1\n",
    "        else:\n",
    "            print(\"You found nothing in the shoe.\")\n",
    "            print(\"\")\n",
    "    elif choice == 5:\n",
    "        if keyfound == 1:\n",
    "            loop = 0\n",
    "            print(\"You put in the key, turn it, and hear a click\")\n",
    "\n",
    "            print(\"\")\n",
    "        else:\n",
    "            print(\"The door is locked, you need to find a key.\")\n",
    "            print(\"\")\n",
    "\n",
    "# Remember that a backslash continues\n",
    "# the code on the next line\n",
    "\n",
    "print(\"Light floods into the room as \\\n",
    "you open the door to your freedom.\")"
   ]
  },
  {
   "cell_type": "markdown",
   "metadata": {},
   "source": [
    "Well, a very simple, but fun, game. Don't get daunted by the amount of code there, 53 of the lines are just the 'if' statements, which is the easiest thing to read there. (Once you comprehend all the indentation, you'll be able to make your own game, and you can make it as simple [or as complex] as you like.)"
   ]
  },
  {
   "cell_type": "markdown",
   "metadata": {},
   "source": [
    "### Making the Game Better"
   ]
  },
  {
   "cell_type": "markdown",
   "metadata": {},
   "source": [
    "The first question you should ask is \"does this program work?\". The answer here is yes. Then you should ask \"does this program work well?\" - not quite. The menu() function is great - it reduces a lot of typing. The 'while' loop that we have, however, is a little messy - four levels of indents, for a simple program. We can do better!\n",
    "\n",
    "Now, this will become much MUCH more straightforward when we introduce classes. But that will have to wait. Until then, let's make a function that reduces our mess. We will pass two things to it - the menu choice we made, and the location of the key. It will return one thing - whether or not the key has been found. Lets see it: "
   ]
  },
  {
   "cell_type": "code",
   "execution_count": 2,
   "metadata": {},
   "outputs": [
    {
     "name": "stdout",
     "output_type": "stream",
     "text": [
      "Light floods into the room, as you open the door to your freedom.\n"
     ]
    }
   ],
   "source": [
    "def inspect(choice,location):\n",
    "    if choice == location:\n",
    "        print(\"\")\n",
    "        print(\"You found a key!\")\n",
    "        print(\"\")\n",
    "        return 1\n",
    "    else:\n",
    "        print(\"\")\n",
    "        print(\"Nothing of interest here.\")\n",
    "        print(\"\")\n",
    "        return 0\n",
    "\n",
    "while loop == 1:\n",
    "    keyfound = inspect(menu(items,\"What do you want to inspect? \"), keylocation)\n",
    "    if keyfound == 1:\n",
    "        print(\"You put the key in the lock of the door, and turn it. It opens!\")\n",
    "        loop = 0\n",
    "\n",
    "print(\"Light floods into the room, \\\n",
    "as you open the door to your freedom.\")"
   ]
  },
  {
   "cell_type": "markdown",
   "metadata": {},
   "source": [
    "Now the program becomes massively shorter - from a cumbersome 83 lines, to a very shapely 50 lines! Of course, you lose quite a bit of versatility - all the items in the room do the same thing. You automatically open the door when you find the key. The game becomes a little less interesting. It also becomes a little harder to change. "
   ]
  },
  {
   "cell_type": "code",
   "execution_count": null,
   "metadata": {},
   "outputs": [],
   "source": []
  }
 ],
 "metadata": {
  "kernelspec": {
   "display_name": "Python 3",
   "language": "python",
   "name": "python3"
  },
  "language_info": {
   "codemirror_mode": {
    "name": "ipython",
    "version": 3
   },
   "file_extension": ".py",
   "mimetype": "text/x-python",
   "name": "python",
   "nbconvert_exporter": "python",
   "pygments_lexer": "ipython3",
   "version": "3.6.7"
  }
 },
 "nbformat": 4,
 "nbformat_minor": 2
}
